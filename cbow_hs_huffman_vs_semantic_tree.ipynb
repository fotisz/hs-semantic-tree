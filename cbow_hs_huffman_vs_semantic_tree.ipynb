{
 "cells": [
  {
   "cell_type": "code",
   "execution_count": 2,
   "metadata": {
    "collapsed": true,
    "deletable": true,
    "editable": true
   },
   "outputs": [],
   "source": [
    "import os\n",
    "import sys\n",
    "import time\n",
    "import math\n",
    "import argparse\n",
    "\n",
    "import numpy as np\n",
    "from scipy import stats\n",
    "from gensim.models import KeyedVectors\n",
    "from matplotlib import pyplot as plt\n",
    "\n",
    "from gmm_tree import gmm_clustering"
   ]
  },
  {
   "cell_type": "code",
   "execution_count": 3,
   "metadata": {
    "collapsed": false,
    "deletable": true,
    "editable": true
   },
   "outputs": [],
   "source": [
    "# Nov. 2013 dump of Wikipedia, only articles with at least 20 pageviews, leaving 460k documents. \n",
    "train_file = '/home/matthias/data/wikipedia.txt'\n",
    "# Checkout and build https://github.com/mleimeister/fastText/tree/hs_precomputed_tree\n",
    "fasttext = '/home/matthias/fastText/fasttext'\n",
    "# Directory to store the trained vectors\n",
    "save_path = '/home/matthias/tmp/'\n",
    "# Questions file for the word analogy task\n",
    "questions_file = '/home/matthias/data/questions-words.txt'\n",
    "# File for word similarity task\n",
    "dataPath = '/home/matthias/data/rw.txt'"
   ]
  },
  {
   "cell_type": "code",
   "execution_count": 4,
   "metadata": {
    "collapsed": true,
    "deletable": true,
    "editable": true
   },
   "outputs": [],
   "source": [
    "# Set the dimensions of the embedding vectors, for each there will be a separate training and evaluation run\n",
    "dims = [50, 100, 400]"
   ]
  },
  {
   "cell_type": "code",
   "execution_count": 5,
   "metadata": {
    "collapsed": true,
    "deletable": true,
    "editable": true
   },
   "outputs": [],
   "source": [
    "def print_formated_time(elapsed, outfile=None):\n",
    "    hours, rem = divmod(elapsed, 3600)\n",
    "    minutes, seconds = divmod(rem, 60)\n",
    "    s = 'Elapsed time: {:0>2}:{:0>2}:{:05.2f}'.format(int(hours),int(minutes),seconds)\n",
    "    print(s)\n",
    "    if outfile is not None:\n",
    "        with open(outfile, 'a') as f:\n",
    "            f.write('Elapsed time: {}\\n'.format(s))"
   ]
  },
  {
   "cell_type": "code",
   "execution_count": 5,
   "metadata": {
    "collapsed": false,
    "deletable": true,
    "editable": true
   },
   "outputs": [
    {
     "name": "stdout",
     "output_type": "stream",
     "text": [
      "Running fastText in dimension 50\n",
      "Elapsed time: 00:05:15.40\n",
      "Running fastText in dimension 100\n",
      "Elapsed time: 00:05:32.80\n",
      "Running fastText in dimension 400\n",
      "Elapsed time: 00:11:07.24\n"
     ]
    }
   ],
   "source": [
    "# Run cbow fastText using hierarchical softmax with Huffman tree\n",
    "for dim in dims:\n",
    "    out_vec_file = save_path + 'vecs_huffman_' + str(dim)\n",
    "    results_file = save_path + 'results_huffman_' + str(dim) + '.txt'\n",
    "\n",
    "    exec_str = fasttext + ' cbow -input ' + train_file + ' -output ' + out_vec_file + \\\n",
    "              ' -minCount 25 -minn 0 -maxn 0 -t 0.00001 -lr 0.05 -dim ' + str(dim) + ' -ws 10 ' + \\\n",
    "              '-epoch 3 -loss hs -thread 48'\n",
    "\n",
    "    print('Running fastText in dimension {}'.format(dim))\n",
    "    start = time.time()\n",
    "    os.system(exec_str)\n",
    "    elapsed = time.time() - start\n",
    "    with open(results_file, 'w') as f:\n",
    "        f.write(exec_str + '\\n')\n",
    "    print_formated_time(elapsed, results_file)"
   ]
  },
  {
   "cell_type": "code",
   "execution_count": 6,
   "metadata": {
    "collapsed": false,
    "deletable": true,
    "editable": true,
    "scrolled": true
   },
   "outputs": [
    {
     "name": "stderr",
     "output_type": "stream",
     "text": [
      "/usr/local/lib/python3.5/dist-packages/sklearn/mixture/base.py:237: ConvergenceWarning: Initialization 1 did not converged. Try different init parameters, or increase max_iter, tol or check for degenerate data.\n",
      "  % (init + 1), ConvergenceWarning)\n"
     ]
    },
    {
     "name": "stdout",
     "output_type": "stream",
     "text": [
      "Final number of leaves: 213480\n",
      "Size of vocabulary: 213480\n",
      "Number of internal nodes: 213479\n",
      "Mean code word length: 21.53803166572981\n",
      "Elapsed time: 00:09:35.69\n",
      "Final number of leaves: 213480\n",
      "Size of vocabulary: 213480\n",
      "Number of internal nodes: 213479\n",
      "Mean code word length: 21.91010867528574\n",
      "Elapsed time: 00:10:30.30\n",
      "Final number of leaves: 213480\n",
      "Size of vocabulary: 213480\n",
      "Number of internal nodes: 213479\n",
      "Mean code word length: 21.31884017238149\n",
      "Elapsed time: 00:13:52.90\n"
     ]
    }
   ],
   "source": [
    "# Generate tree index for semantic tree based on Huffman word vectors\n",
    "for dim in dims:\n",
    "    out_vec_file = save_path + 'vecs_huffman_' + str(dim)\n",
    "    start = time.time()\n",
    "    tree_index = save_path + 'tree_index_' + str(dim) + '.txt'\n",
    "    gmm_clustering(out_vec_file + '.vec', tree_index)\n",
    "    elapsed = time.time() - start\n",
    "    print_formated_time(elapsed, None)"
   ]
  },
  {
   "cell_type": "code",
   "execution_count": 6,
   "metadata": {
    "collapsed": false,
    "deletable": true,
    "editable": true
   },
   "outputs": [
    {
     "name": "stdout",
     "output_type": "stream",
     "text": [
      "Running fastText in dimension 50\n",
      "Elapsed time: 00:03:52.83\n",
      "Running fastText in dimension 100\n",
      "Elapsed time: 00:04:42.08\n",
      "Running fastText in dimension 400\n",
      "Elapsed time: 00:10:43.10\n"
     ]
    }
   ],
   "source": [
    "# Run cbow fastText using hierarchical softmax with the semantic tree\n",
    "for dim in dims:\n",
    "    tree_index = save_path + 'tree_index_' + str(dim) + '.txt'\n",
    "    out_vec_file = save_path + 'vecs_gmm_' + str(dim)\n",
    "    results_file = save_path + 'results_gmm_' + str(dim) + '.txt'\n",
    "\n",
    "    exec_str = fasttext + ' cbow -input ' + train_file + ' -output ' + out_vec_file + \\\n",
    "              ' -minCount 25 -minn 0 -maxn 0 -t 0.00001 -lr 0.05 -dim ' + str(dim) + ' -ws 10 ' + \\\n",
    "              '-epoch 3 -loss hs -thread 48 -tree ' + tree_index\n",
    "\n",
    "    print('Running fastText in dimension {}'.format(dim))\n",
    "    start = time.time()\n",
    "    os.system(exec_str)\n",
    "    elapsed = time.time() - start\n",
    "    with open(results_file, 'w') as f:\n",
    "        f.write(exec_str + '\\n')\n",
    "    print_formated_time(elapsed, results_file)"
   ]
  },
  {
   "cell_type": "code",
   "execution_count": 7,
   "metadata": {
    "collapsed": false,
    "deletable": true,
    "editable": true
   },
   "outputs": [],
   "source": [
    "# Evaluation using the word analogy task.\n",
    "def print_accuracy(acc):\n",
    "    sem_correct = sum((len(acc[i]['correct']) for i in range(5)))\n",
    "    sem_total = sum((len(acc[i]['correct']) + len(acc[i]['incorrect'])) for i in range(5))\n",
    "    sem_acc = 100*float(sem_correct)/sem_total\n",
    "    print('Semantic: {:d}/{:d}, Accuracy: {:.2f}%'.format(sem_correct, sem_total, sem_acc))\n",
    "    \n",
    "    syn_correct = sum((len(acc[i]['correct']) for i in range(5, len(acc)-1)))\n",
    "    syn_total = sum((len(acc[i]['correct']) + len(acc[i]['incorrect'])) for i in range(5,len(acc)-1))\n",
    "    syn_acc = 100*float(syn_correct)/syn_total\n",
    "    print('Syntactic: {:d}/{:d}, Accuracy: {:.2f}%'.format(syn_correct, syn_total, syn_acc))\n",
    "    \n",
    "    total_correct = sem_correct + syn_correct\n",
    "    total = sem_total + syn_total\n",
    "    total_acc = 100*float(total_correct)/total\n",
    "    print('Total: {:d}/{:d}, Accuracy: {:.2f}%\\n'.format(total_correct, total, total_acc))\n",
    "    return (sem_acc, syn_acc, total_acc)\n",
    "\n",
    "def evaluate_accuracy(vecs_file):\n",
    "    model = KeyedVectors.load_word2vec_format(vecs_file)\n",
    "    acc = model.accuracy(questions_file)\n",
    "    _, _, total_acc = print_accuracy(acc)\n",
    "    return total_acc"
   ]
  },
  {
   "cell_type": "code",
   "execution_count": 8,
   "metadata": {
    "collapsed": false,
    "deletable": true,
    "editable": true
   },
   "outputs": [
    {
     "name": "stdout",
     "output_type": "stream",
     "text": [
      "Evaluating word analogy task...\n",
      "Dimension: 50\n",
      "Huffman tree:\n",
      "Semantic: 2345/4976, Accuracy: 47.13%\n",
      "Syntactic: 3566/8429, Accuracy: 42.31%\n",
      "Total: 5911/13405, Accuracy: 44.10%\n",
      "\n",
      "GMM tree:\n",
      "Semantic: 2897/4976, Accuracy: 58.22%\n",
      "Syntactic: 4084/8429, Accuracy: 48.45%\n",
      "Total: 6981/13405, Accuracy: 52.08%\n",
      "\n",
      "Dimension: 100\n",
      "Huffman tree:\n",
      "Semantic: 3270/4976, Accuracy: 65.72%\n",
      "Syntactic: 4466/8429, Accuracy: 52.98%\n",
      "Total: 7736/13405, Accuracy: 57.71%\n",
      "\n",
      "GMM tree:\n",
      "Semantic: 3464/4976, Accuracy: 69.61%\n",
      "Syntactic: 5031/8429, Accuracy: 59.69%\n",
      "Total: 8495/13405, Accuracy: 63.37%\n",
      "\n",
      "Dimension: 400\n",
      "Huffman tree:\n",
      "Semantic: 3798/4976, Accuracy: 76.33%\n",
      "Syntactic: 4900/8429, Accuracy: 58.13%\n",
      "Total: 8698/13405, Accuracy: 64.89%\n",
      "\n",
      "GMM tree:\n",
      "Semantic: 3848/4976, Accuracy: 77.33%\n",
      "Syntactic: 5378/8429, Accuracy: 63.80%\n",
      "Total: 9226/13405, Accuracy: 68.83%\n",
      "\n"
     ]
    }
   ],
   "source": [
    "print('Evaluating word analogy task...')\n",
    "\n",
    "acc_huffman = []\n",
    "acc_gmm = []\n",
    "\n",
    "for dim in dims:\n",
    "    print('Dimension: {}'.format(dim))\n",
    "    print('Huffman tree:')\n",
    "    acc = evaluate_accuracy(save_path + 'vecs_huffman_' + str(dim) + '.vec')\n",
    "    acc_huffman.append(acc)\n",
    "    with open(save_path + 'results_huffman_' + str(dim) + '.txt', 'a') as f:\n",
    "        f.write('Analogy score: {}\\n'.format(acc))\n",
    "    print('GMM tree:')\n",
    "    acc = evaluate_accuracy(save_path + 'vecs_gmm_' + str(dim) + '.vec')\n",
    "    acc_gmm.append(acc)\n",
    "    with open(save_path + 'results_gmm_' + str(dim) + '.txt', 'a') as f:\n",
    "        f.write('Analogy score: {}\\n'.format(acc))"
   ]
  },
  {
   "cell_type": "code",
   "execution_count": 9,
   "metadata": {
    "collapsed": true,
    "deletable": true,
    "editable": true
   },
   "outputs": [],
   "source": [
    "# Evaluation functions for the Stanfor rare words dataset. \n",
    "# Copied from https://github.com/facebookresearch/fastText/blob/master/eval.py\n",
    "def compat_splitting(line):\n",
    "    return line.decode('utf8').split()\n",
    "\n",
    "def similarity(v1, v2):\n",
    "    n1 = np.linalg.norm(v1)\n",
    "    n2 = np.linalg.norm(v2)\n",
    "    return np.dot(v1, v2) / n1 / n2\n",
    "\n",
    "def compute_sim_correlation(vecs_file):\n",
    "    vectors = {}\n",
    "    fin = open(vecs_file, 'rb')\n",
    "    for i, line in enumerate(fin):\n",
    "        try:\n",
    "            tab = compat_splitting(line)\n",
    "            vec = np.array(tab[1:], dtype=float)\n",
    "            word = tab[0]\n",
    "            if not word in vectors:\n",
    "                vectors[word] = vec\n",
    "        except ValueError:\n",
    "            continue\n",
    "        except UnicodeDecodeError:\n",
    "            continue\n",
    "    fin.close()\n",
    "\n",
    "    mysim = []\n",
    "    gold = []\n",
    "    drop = 0.0\n",
    "    nwords = 0.0\n",
    "\n",
    "    fin = open(dataPath, 'rb')\n",
    "    for line in fin:\n",
    "        tline = compat_splitting(line)\n",
    "        word1 = tline[0].lower()\n",
    "        word2 = tline[1].lower()\n",
    "        nwords = nwords + 1.0\n",
    "\n",
    "        if (word1 in vectors) and (word2 in vectors):\n",
    "            v1 = vectors[word1]\n",
    "            v2 = vectors[word2]\n",
    "            d = similarity(v1, v2)\n",
    "            mysim.append(d)\n",
    "            gold.append(float(tline[2]))\n",
    "        else:\n",
    "            drop = drop + 1.0\n",
    "    fin.close()\n",
    "\n",
    "    corr = stats.spearmanr(mysim, gold)\n",
    "    dataset = os.path.basename(dataPath)\n",
    "    print(\"{0:20s}: {1:2.0f}  (OOV: {2:2.0f}%)\"\n",
    "    .format(dataset, corr[0] * 100, math.ceil(drop / nwords * 100.0)))\n",
    "    \n",
    "    return corr[0]"
   ]
  },
  {
   "cell_type": "code",
   "execution_count": 10,
   "metadata": {
    "collapsed": false,
    "deletable": true,
    "editable": true
   },
   "outputs": [
    {
     "name": "stdout",
     "output_type": "stream",
     "text": [
      "Evaluating word similarity task...\n",
      "Dimension: 50\n",
      "Huffman tree:\n",
      "rw.txt              : 40  (OOV: 24%)\n",
      "GMM tree:\n",
      "rw.txt              : 42  (OOV: 24%)\n",
      "Dimension: 100\n",
      "Huffman tree:\n",
      "rw.txt              : 44  (OOV: 24%)\n",
      "GMM tree:\n",
      "rw.txt              : 44  (OOV: 24%)\n",
      "Dimension: 400\n",
      "Huffman tree:\n",
      "rw.txt              : 43  (OOV: 24%)\n",
      "GMM tree:\n",
      "rw.txt              : 44  (OOV: 24%)\n"
     ]
    }
   ],
   "source": [
    "print('Evaluating word similarity task...')\n",
    "\n",
    "corr_huffman = []\n",
    "corr_gmm = []\n",
    "\n",
    "for dim in dims:\n",
    "    print('Dimension: {}'.format(dim))\n",
    "    print('Huffman tree:')\n",
    "    c = compute_sim_correlation(save_path + 'vecs_huffman_' + str(dim) + '.vec')\n",
    "    corr_huffman.append(c)\n",
    "    with open(save_path + 'results_huffman_' + str(dim) + '.txt', 'a') as f:\n",
    "        f.write('Similarity correlation: {}\\n'.format(acc))\n",
    "    print('GMM tree:')\n",
    "    c = compute_sim_correlation(save_path + 'vecs_gmm_' + str(dim) + '.vec')\n",
    "    corr_gmm.append(c)\n",
    "    with open(save_path + 'results_gmm_' + str(dim) + '.txt', 'a') as f:\n",
    "        f.write('Similarity correlation: {}\\n'.format(acc))"
   ]
  },
  {
   "cell_type": "code",
   "execution_count": 11,
   "metadata": {
    "collapsed": false,
    "deletable": true,
    "editable": true
   },
   "outputs": [],
   "source": [
    "def plot_results(huffman_score, gmm_score, figure_title, ylabel, ylimits):\n",
    "\n",
    "    pos = range(3)\n",
    "    width = 0.25\n",
    "\n",
    "    fig, ax = plt.subplots(figsize=(10,5))\n",
    "\n",
    "    plt.bar([p - 0.5*width for p in pos],\n",
    "            huffman_score,\n",
    "            width,\n",
    "            alpha=0.5,\n",
    "            color='r')\n",
    "\n",
    "    plt.bar([p + 0.5*width for p in pos],\n",
    "            gmm_score,\n",
    "            width,\n",
    "            alpha=0.5,\n",
    "            color='b')\n",
    "\n",
    "    ax.set_ylabel(ylabel)\n",
    "    ax.set_xlabel('Embedding dimension')\n",
    "    ax.set_title(figure_title)\n",
    "    ax.set_xticks(pos)\n",
    "    ax.set_xticklabels([50, 100, 400])\n",
    "    plt.xlim(min(pos)-2*width, max(pos)+width*2)\n",
    "    plt.ylim(ylimits)\n",
    "\n",
    "    plt.legend(['Huffman tree', 'GMM tree'], loc='upper left')\n",
    "    plt.grid()\n",
    "    plt.show()"
   ]
  },
  {
   "cell_type": "code",
   "execution_count": 12,
   "metadata": {
    "collapsed": false,
    "deletable": true,
    "editable": true
   },
   "outputs": [
    {
     "data": {
      "image/png": "[encoded data removed]",
      "text/plain": [
       "<matplotlib.figure.Figure at 0x7fb5901778d0>"
      ]
     },
     "metadata": {},
     "output_type": "display_data"
    }
   ],
   "source": [
    "plot_results([a/100 for a in acc_huffman], [a/100 for a in acc_gmm], 'Word analogy task', 'Accuracy', [0, 0.8])"
   ]
  },
  {
   "cell_type": "code",
   "execution_count": 13,
   "metadata": {
    "collapsed": false,
    "deletable": true,
    "editable": true
   },
   "outputs": [
    {
     "data": {
      "image/png": "[encoded data removed]",
      "text/plain": [
       "<matplotlib.figure.Figure at 0x7fb55fdc59b0>"
      ]
     },
     "metadata": {},
     "output_type": "display_data"
    }
   ],
   "source": [
    "plot_results(corr_huffman, corr_gmm, 'Rare words similarity task', 'Correlation', [0, 0.6])"
   ]
  }
 ],
 "metadata": {
  "kernelspec": {
   "display_name": "Python 3",
   "language": "python",
   "name": "python3"
  },
  "language_info": {
   "codemirror_mode": {
    "name": "ipython",
    "version": 3
   },
   "file_extension": ".py",
   "mimetype": "text/x-python",
   "name": "python",
   "nbconvert_exporter": "python",
   "pygments_lexer": "ipython3",
   "version": "3.5.2"
  }
 },
 "nbformat": 4,
 "nbformat_minor": 2
}
